{
 "cells": [
  {
   "cell_type": "code",
   "execution_count": 24,
   "metadata": {},
   "outputs": [
    {
     "name": "stdout",
     "output_type": "stream",
     "text": [
      "element [('432', 'NUMBER')]\n",
      "element [('56', 'NUMBER')]\n",
      "element [('34', 'NUMBER')]\n",
      "element [('34', 'NUMBER')]\n",
      "element [(')', 'SYMBOL'), ('324', 'NUMBER')]\n"
     ]
    },
    {
     "ename": "Exception",
     "evalue": "number grammar can't be matched.",
     "output_type": "error",
     "traceback": [
      "\u001b[0;31m---------------------------------------------------------------------------\u001b[0m",
      "\u001b[0;31mException\u001b[0m                                 Traceback (most recent call last)",
      "\u001b[1;32m/Users/ericwang/Documents/spring2023/COMP 141 Language/project/language/parser.ipynb Cell 1\u001b[0m in \u001b[0;36m6\n\u001b[1;32m     <a href='vscode-notebook-cell:/Users/ericwang/Documents/spring2023/COMP%20141%20Language/project/language/parser.ipynb#W0sZmlsZQ%3D%3D?line=55'>56</a>\u001b[0m             \u001b[39mreturn\u001b[39;00m grammar(start, end, grammarIndex)\n\u001b[1;32m     <a href='vscode-notebook-cell:/Users/ericwang/Documents/spring2023/COMP%20141%20Language/project/language/parser.ipynb#W0sZmlsZQ%3D%3D?line=56'>57</a>\u001b[0m         \u001b[39mreturn\u001b[39;00m \u001b[39mself\u001b[39m\u001b[39m.\u001b[39mbinaryGrammar(start, end, grammarIndex)\n\u001b[0;32m---> <a href='vscode-notebook-cell:/Users/ericwang/Documents/spring2023/COMP%20141%20Language/project/language/parser.ipynb#W0sZmlsZQ%3D%3D?line=60'>61</a>\u001b[0m Parser(tokens)\u001b[39m.\u001b[39;49mparse(\u001b[39m0\u001b[39;49m, \u001b[39mlen\u001b[39;49m(tokens))\n",
      "\u001b[1;32m/Users/ericwang/Documents/spring2023/COMP 141 Language/project/language/parser.ipynb Cell 1\u001b[0m in \u001b[0;36m2\n\u001b[1;32m     <a href='vscode-notebook-cell:/Users/ericwang/Documents/spring2023/COMP%20141%20Language/project/language/parser.ipynb#W0sZmlsZQ%3D%3D?line=19'>20</a>\u001b[0m \u001b[39mdef\u001b[39;00m \u001b[39mparse\u001b[39m(\u001b[39mself\u001b[39m,start, end):\n\u001b[0;32m---> <a href='vscode-notebook-cell:/Users/ericwang/Documents/spring2023/COMP%20141%20Language/project/language/parser.ipynb#W0sZmlsZQ%3D%3D?line=20'>21</a>\u001b[0m     node \u001b[39m=\u001b[39m \u001b[39mself\u001b[39;49m\u001b[39m.\u001b[39;49mapplyGrammar(start, end, \u001b[39m0\u001b[39;49m)\n\u001b[1;32m     <a href='vscode-notebook-cell:/Users/ericwang/Documents/spring2023/COMP%20141%20Language/project/language/parser.ipynb#W0sZmlsZQ%3D%3D?line=21'>22</a>\u001b[0m     node\u001b[39m.\u001b[39mpreorder()\n",
      "\u001b[1;32m/Users/ericwang/Documents/spring2023/COMP 141 Language/project/language/parser.ipynb Cell 1\u001b[0m in \u001b[0;36m5\n\u001b[1;32m     <a href='vscode-notebook-cell:/Users/ericwang/Documents/spring2023/COMP%20141%20Language/project/language/parser.ipynb#W0sZmlsZQ%3D%3D?line=54'>55</a>\u001b[0m \u001b[39mif\u001b[39;00m grammar:\n\u001b[1;32m     <a href='vscode-notebook-cell:/Users/ericwang/Documents/spring2023/COMP%20141%20Language/project/language/parser.ipynb#W0sZmlsZQ%3D%3D?line=55'>56</a>\u001b[0m     \u001b[39mreturn\u001b[39;00m grammar(start, end, grammarIndex)\n\u001b[0;32m---> <a href='vscode-notebook-cell:/Users/ericwang/Documents/spring2023/COMP%20141%20Language/project/language/parser.ipynb#W0sZmlsZQ%3D%3D?line=56'>57</a>\u001b[0m \u001b[39mreturn\u001b[39;00m \u001b[39mself\u001b[39;49m\u001b[39m.\u001b[39;49mbinaryGrammar(start, end, grammarIndex)\n",
      "\u001b[1;32m/Users/ericwang/Documents/spring2023/COMP 141 Language/project/language/parser.ipynb Cell 1\u001b[0m in \u001b[0;36m4\n\u001b[1;32m     <a href='vscode-notebook-cell:/Users/ericwang/Documents/spring2023/COMP%20141%20Language/project/language/parser.ipynb#W0sZmlsZQ%3D%3D?line=45'>46</a>\u001b[0m right \u001b[39m=\u001b[39m \u001b[39mself\u001b[39m\u001b[39m.\u001b[39mapplyGrammar(start, i, grammarIndex \u001b[39m+\u001b[39m \u001b[39m1\u001b[39m)\n\u001b[1;32m     <a href='vscode-notebook-cell:/Users/ericwang/Documents/spring2023/COMP%20141%20Language/project/language/parser.ipynb#W0sZmlsZQ%3D%3D?line=46'>47</a>\u001b[0m \u001b[39mif\u001b[39;00m i \u001b[39m<\u001b[39m end:\n\u001b[0;32m---> <a href='vscode-notebook-cell:/Users/ericwang/Documents/spring2023/COMP%20141%20Language/project/language/parser.ipynb#W0sZmlsZQ%3D%3D?line=47'>48</a>\u001b[0m     left \u001b[39m=\u001b[39m \u001b[39mself\u001b[39;49m\u001b[39m.\u001b[39;49mapplyGrammar(i \u001b[39m+\u001b[39;49m \u001b[39m1\u001b[39;49m, end, grammarIndex)\n\u001b[1;32m     <a href='vscode-notebook-cell:/Users/ericwang/Documents/spring2023/COMP%20141%20Language/project/language/parser.ipynb#W0sZmlsZQ%3D%3D?line=48'>49</a>\u001b[0m     \u001b[39mreturn\u001b[39;00m Node(sign, \u001b[39mself\u001b[39m\u001b[39m.\u001b[39mtokens[i][\u001b[39m1\u001b[39m], left, right)\n\u001b[1;32m     <a href='vscode-notebook-cell:/Users/ericwang/Documents/spring2023/COMP%20141%20Language/project/language/parser.ipynb#W0sZmlsZQ%3D%3D?line=49'>50</a>\u001b[0m \u001b[39melse\u001b[39;00m:\n",
      "\u001b[1;32m/Users/ericwang/Documents/spring2023/COMP 141 Language/project/language/parser.ipynb Cell 1\u001b[0m in \u001b[0;36m5\n\u001b[1;32m     <a href='vscode-notebook-cell:/Users/ericwang/Documents/spring2023/COMP%20141%20Language/project/language/parser.ipynb#W0sZmlsZQ%3D%3D?line=54'>55</a>\u001b[0m \u001b[39mif\u001b[39;00m grammar:\n\u001b[1;32m     <a href='vscode-notebook-cell:/Users/ericwang/Documents/spring2023/COMP%20141%20Language/project/language/parser.ipynb#W0sZmlsZQ%3D%3D?line=55'>56</a>\u001b[0m     \u001b[39mreturn\u001b[39;00m grammar(start, end, grammarIndex)\n\u001b[0;32m---> <a href='vscode-notebook-cell:/Users/ericwang/Documents/spring2023/COMP%20141%20Language/project/language/parser.ipynb#W0sZmlsZQ%3D%3D?line=56'>57</a>\u001b[0m \u001b[39mreturn\u001b[39;00m \u001b[39mself\u001b[39;49m\u001b[39m.\u001b[39;49mbinaryGrammar(start, end, grammarIndex)\n",
      "\u001b[1;32m/Users/ericwang/Documents/spring2023/COMP 141 Language/project/language/parser.ipynb Cell 1\u001b[0m in \u001b[0;36m4\n\u001b[1;32m     <a href='vscode-notebook-cell:/Users/ericwang/Documents/spring2023/COMP%20141%20Language/project/language/parser.ipynb#W0sZmlsZQ%3D%3D?line=43'>44</a>\u001b[0m \u001b[39mwhile\u001b[39;00m i \u001b[39m<\u001b[39m end \u001b[39mand\u001b[39;00m \u001b[39mself\u001b[39m\u001b[39m.\u001b[39mtokens[i][\u001b[39m0\u001b[39m] \u001b[39m!=\u001b[39m sign: \u001b[39m# what if token is not a symbol do we need to check this?\u001b[39;00m\n\u001b[1;32m     <a href='vscode-notebook-cell:/Users/ericwang/Documents/spring2023/COMP%20141%20Language/project/language/parser.ipynb#W0sZmlsZQ%3D%3D?line=44'>45</a>\u001b[0m     i \u001b[39m+\u001b[39m\u001b[39m=\u001b[39m \u001b[39m1\u001b[39m\n\u001b[0;32m---> <a href='vscode-notebook-cell:/Users/ericwang/Documents/spring2023/COMP%20141%20Language/project/language/parser.ipynb#W0sZmlsZQ%3D%3D?line=45'>46</a>\u001b[0m right \u001b[39m=\u001b[39m \u001b[39mself\u001b[39;49m\u001b[39m.\u001b[39;49mapplyGrammar(start, i, grammarIndex \u001b[39m+\u001b[39;49m \u001b[39m1\u001b[39;49m)\n\u001b[1;32m     <a href='vscode-notebook-cell:/Users/ericwang/Documents/spring2023/COMP%20141%20Language/project/language/parser.ipynb#W0sZmlsZQ%3D%3D?line=46'>47</a>\u001b[0m \u001b[39mif\u001b[39;00m i \u001b[39m<\u001b[39m end:\n\u001b[1;32m     <a href='vscode-notebook-cell:/Users/ericwang/Documents/spring2023/COMP%20141%20Language/project/language/parser.ipynb#W0sZmlsZQ%3D%3D?line=47'>48</a>\u001b[0m     left \u001b[39m=\u001b[39m \u001b[39mself\u001b[39m\u001b[39m.\u001b[39mapplyGrammar(i \u001b[39m+\u001b[39m \u001b[39m1\u001b[39m, end, grammarIndex)\n",
      "    \u001b[0;31m[... skipping similar frames: Parser.applyGrammar at line 57 (1 times)]\u001b[0m\n",
      "\u001b[1;32m/Users/ericwang/Documents/spring2023/COMP 141 Language/project/language/parser.ipynb Cell 1\u001b[0m in \u001b[0;36m4\n\u001b[1;32m     <a href='vscode-notebook-cell:/Users/ericwang/Documents/spring2023/COMP%20141%20Language/project/language/parser.ipynb#W0sZmlsZQ%3D%3D?line=45'>46</a>\u001b[0m right \u001b[39m=\u001b[39m \u001b[39mself\u001b[39m\u001b[39m.\u001b[39mapplyGrammar(start, i, grammarIndex \u001b[39m+\u001b[39m \u001b[39m1\u001b[39m)\n\u001b[1;32m     <a href='vscode-notebook-cell:/Users/ericwang/Documents/spring2023/COMP%20141%20Language/project/language/parser.ipynb#W0sZmlsZQ%3D%3D?line=46'>47</a>\u001b[0m \u001b[39mif\u001b[39;00m i \u001b[39m<\u001b[39m end:\n\u001b[0;32m---> <a href='vscode-notebook-cell:/Users/ericwang/Documents/spring2023/COMP%20141%20Language/project/language/parser.ipynb#W0sZmlsZQ%3D%3D?line=47'>48</a>\u001b[0m     left \u001b[39m=\u001b[39m \u001b[39mself\u001b[39;49m\u001b[39m.\u001b[39;49mapplyGrammar(i \u001b[39m+\u001b[39;49m \u001b[39m1\u001b[39;49m, end, grammarIndex)\n\u001b[1;32m     <a href='vscode-notebook-cell:/Users/ericwang/Documents/spring2023/COMP%20141%20Language/project/language/parser.ipynb#W0sZmlsZQ%3D%3D?line=48'>49</a>\u001b[0m     \u001b[39mreturn\u001b[39;00m Node(sign, \u001b[39mself\u001b[39m\u001b[39m.\u001b[39mtokens[i][\u001b[39m1\u001b[39m], left, right)\n\u001b[1;32m     <a href='vscode-notebook-cell:/Users/ericwang/Documents/spring2023/COMP%20141%20Language/project/language/parser.ipynb#W0sZmlsZQ%3D%3D?line=49'>50</a>\u001b[0m \u001b[39melse\u001b[39;00m:\n",
      "    \u001b[0;31m[... skipping similar frames: Parser.applyGrammar at line 57 (1 times)]\u001b[0m\n",
      "\u001b[1;32m/Users/ericwang/Documents/spring2023/COMP 141 Language/project/language/parser.ipynb Cell 1\u001b[0m in \u001b[0;36m4\n\u001b[1;32m     <a href='vscode-notebook-cell:/Users/ericwang/Documents/spring2023/COMP%20141%20Language/project/language/parser.ipynb#W0sZmlsZQ%3D%3D?line=43'>44</a>\u001b[0m \u001b[39mwhile\u001b[39;00m i \u001b[39m<\u001b[39m end \u001b[39mand\u001b[39;00m \u001b[39mself\u001b[39m\u001b[39m.\u001b[39mtokens[i][\u001b[39m0\u001b[39m] \u001b[39m!=\u001b[39m sign: \u001b[39m# what if token is not a symbol do we need to check this?\u001b[39;00m\n\u001b[1;32m     <a href='vscode-notebook-cell:/Users/ericwang/Documents/spring2023/COMP%20141%20Language/project/language/parser.ipynb#W0sZmlsZQ%3D%3D?line=44'>45</a>\u001b[0m     i \u001b[39m+\u001b[39m\u001b[39m=\u001b[39m \u001b[39m1\u001b[39m\n\u001b[0;32m---> <a href='vscode-notebook-cell:/Users/ericwang/Documents/spring2023/COMP%20141%20Language/project/language/parser.ipynb#W0sZmlsZQ%3D%3D?line=45'>46</a>\u001b[0m right \u001b[39m=\u001b[39m \u001b[39mself\u001b[39;49m\u001b[39m.\u001b[39;49mapplyGrammar(start, i, grammarIndex \u001b[39m+\u001b[39;49m \u001b[39m1\u001b[39;49m)\n\u001b[1;32m     <a href='vscode-notebook-cell:/Users/ericwang/Documents/spring2023/COMP%20141%20Language/project/language/parser.ipynb#W0sZmlsZQ%3D%3D?line=46'>47</a>\u001b[0m \u001b[39mif\u001b[39;00m i \u001b[39m<\u001b[39m end:\n\u001b[1;32m     <a href='vscode-notebook-cell:/Users/ericwang/Documents/spring2023/COMP%20141%20Language/project/language/parser.ipynb#W0sZmlsZQ%3D%3D?line=47'>48</a>\u001b[0m     left \u001b[39m=\u001b[39m \u001b[39mself\u001b[39m\u001b[39m.\u001b[39mapplyGrammar(i \u001b[39m+\u001b[39m \u001b[39m1\u001b[39m, end, grammarIndex)\n",
      "    \u001b[0;31m[... skipping similar frames: Parser.applyGrammar at line 57 (3 times), Parser.binaryGrammar at line 48 (1 times), Parser.binaryGrammar at line 46 (1 times)]\u001b[0m\n",
      "\u001b[1;32m/Users/ericwang/Documents/spring2023/COMP 141 Language/project/language/parser.ipynb Cell 1\u001b[0m in \u001b[0;36m4\n\u001b[1;32m     <a href='vscode-notebook-cell:/Users/ericwang/Documents/spring2023/COMP%20141%20Language/project/language/parser.ipynb#W0sZmlsZQ%3D%3D?line=45'>46</a>\u001b[0m right \u001b[39m=\u001b[39m \u001b[39mself\u001b[39m\u001b[39m.\u001b[39mapplyGrammar(start, i, grammarIndex \u001b[39m+\u001b[39m \u001b[39m1\u001b[39m)\n\u001b[1;32m     <a href='vscode-notebook-cell:/Users/ericwang/Documents/spring2023/COMP%20141%20Language/project/language/parser.ipynb#W0sZmlsZQ%3D%3D?line=46'>47</a>\u001b[0m \u001b[39mif\u001b[39;00m i \u001b[39m<\u001b[39m end:\n\u001b[0;32m---> <a href='vscode-notebook-cell:/Users/ericwang/Documents/spring2023/COMP%20141%20Language/project/language/parser.ipynb#W0sZmlsZQ%3D%3D?line=47'>48</a>\u001b[0m     left \u001b[39m=\u001b[39m \u001b[39mself\u001b[39;49m\u001b[39m.\u001b[39;49mapplyGrammar(i \u001b[39m+\u001b[39;49m \u001b[39m1\u001b[39;49m, end, grammarIndex)\n\u001b[1;32m     <a href='vscode-notebook-cell:/Users/ericwang/Documents/spring2023/COMP%20141%20Language/project/language/parser.ipynb#W0sZmlsZQ%3D%3D?line=48'>49</a>\u001b[0m     \u001b[39mreturn\u001b[39;00m Node(sign, \u001b[39mself\u001b[39m\u001b[39m.\u001b[39mtokens[i][\u001b[39m1\u001b[39m], left, right)\n\u001b[1;32m     <a href='vscode-notebook-cell:/Users/ericwang/Documents/spring2023/COMP%20141%20Language/project/language/parser.ipynb#W0sZmlsZQ%3D%3D?line=49'>50</a>\u001b[0m \u001b[39melse\u001b[39;00m:\n",
      "\u001b[1;32m/Users/ericwang/Documents/spring2023/COMP 141 Language/project/language/parser.ipynb Cell 1\u001b[0m in \u001b[0;36m5\n\u001b[1;32m     <a href='vscode-notebook-cell:/Users/ericwang/Documents/spring2023/COMP%20141%20Language/project/language/parser.ipynb#W0sZmlsZQ%3D%3D?line=54'>55</a>\u001b[0m \u001b[39mif\u001b[39;00m grammar:\n\u001b[1;32m     <a href='vscode-notebook-cell:/Users/ericwang/Documents/spring2023/COMP%20141%20Language/project/language/parser.ipynb#W0sZmlsZQ%3D%3D?line=55'>56</a>\u001b[0m     \u001b[39mreturn\u001b[39;00m grammar(start, end, grammarIndex)\n\u001b[0;32m---> <a href='vscode-notebook-cell:/Users/ericwang/Documents/spring2023/COMP%20141%20Language/project/language/parser.ipynb#W0sZmlsZQ%3D%3D?line=56'>57</a>\u001b[0m \u001b[39mreturn\u001b[39;00m \u001b[39mself\u001b[39;49m\u001b[39m.\u001b[39;49mbinaryGrammar(start, end, grammarIndex)\n",
      "\u001b[1;32m/Users/ericwang/Documents/spring2023/COMP 141 Language/project/language/parser.ipynb Cell 1\u001b[0m in \u001b[0;36m4\n\u001b[1;32m     <a href='vscode-notebook-cell:/Users/ericwang/Documents/spring2023/COMP%20141%20Language/project/language/parser.ipynb#W0sZmlsZQ%3D%3D?line=43'>44</a>\u001b[0m \u001b[39mwhile\u001b[39;00m i \u001b[39m<\u001b[39m end \u001b[39mand\u001b[39;00m \u001b[39mself\u001b[39m\u001b[39m.\u001b[39mtokens[i][\u001b[39m0\u001b[39m] \u001b[39m!=\u001b[39m sign: \u001b[39m# what if token is not a symbol do we need to check this?\u001b[39;00m\n\u001b[1;32m     <a href='vscode-notebook-cell:/Users/ericwang/Documents/spring2023/COMP%20141%20Language/project/language/parser.ipynb#W0sZmlsZQ%3D%3D?line=44'>45</a>\u001b[0m     i \u001b[39m+\u001b[39m\u001b[39m=\u001b[39m \u001b[39m1\u001b[39m\n\u001b[0;32m---> <a href='vscode-notebook-cell:/Users/ericwang/Documents/spring2023/COMP%20141%20Language/project/language/parser.ipynb#W0sZmlsZQ%3D%3D?line=45'>46</a>\u001b[0m right \u001b[39m=\u001b[39m \u001b[39mself\u001b[39;49m\u001b[39m.\u001b[39;49mapplyGrammar(start, i, grammarIndex \u001b[39m+\u001b[39;49m \u001b[39m1\u001b[39;49m)\n\u001b[1;32m     <a href='vscode-notebook-cell:/Users/ericwang/Documents/spring2023/COMP%20141%20Language/project/language/parser.ipynb#W0sZmlsZQ%3D%3D?line=46'>47</a>\u001b[0m \u001b[39mif\u001b[39;00m i \u001b[39m<\u001b[39m end:\n\u001b[1;32m     <a href='vscode-notebook-cell:/Users/ericwang/Documents/spring2023/COMP%20141%20Language/project/language/parser.ipynb#W0sZmlsZQ%3D%3D?line=47'>48</a>\u001b[0m     left \u001b[39m=\u001b[39m \u001b[39mself\u001b[39m\u001b[39m.\u001b[39mapplyGrammar(i \u001b[39m+\u001b[39m \u001b[39m1\u001b[39m, end, grammarIndex)\n",
      "\u001b[1;32m/Users/ericwang/Documents/spring2023/COMP 141 Language/project/language/parser.ipynb Cell 1\u001b[0m in \u001b[0;36m5\n\u001b[1;32m     <a href='vscode-notebook-cell:/Users/ericwang/Documents/spring2023/COMP%20141%20Language/project/language/parser.ipynb#W0sZmlsZQ%3D%3D?line=53'>54</a>\u001b[0m grammar \u001b[39m=\u001b[39m \u001b[39mgetattr\u001b[39m(\u001b[39mself\u001b[39m, \u001b[39mself\u001b[39m\u001b[39m.\u001b[39mgrammars[grammarIndex] \u001b[39m+\u001b[39m \u001b[39m'\u001b[39m\u001b[39mGrammar\u001b[39m\u001b[39m'\u001b[39m, \u001b[39mNone\u001b[39;00m)\n\u001b[1;32m     <a href='vscode-notebook-cell:/Users/ericwang/Documents/spring2023/COMP%20141%20Language/project/language/parser.ipynb#W0sZmlsZQ%3D%3D?line=54'>55</a>\u001b[0m \u001b[39mif\u001b[39;00m grammar:\n\u001b[0;32m---> <a href='vscode-notebook-cell:/Users/ericwang/Documents/spring2023/COMP%20141%20Language/project/language/parser.ipynb#W0sZmlsZQ%3D%3D?line=55'>56</a>\u001b[0m     \u001b[39mreturn\u001b[39;00m grammar(start, end, grammarIndex)\n\u001b[1;32m     <a href='vscode-notebook-cell:/Users/ericwang/Documents/spring2023/COMP%20141%20Language/project/language/parser.ipynb#W0sZmlsZQ%3D%3D?line=56'>57</a>\u001b[0m \u001b[39mreturn\u001b[39;00m \u001b[39mself\u001b[39m\u001b[39m.\u001b[39mbinaryGrammar(start, end, grammarIndex)\n",
      "\u001b[1;32m/Users/ericwang/Documents/spring2023/COMP 141 Language/project/language/parser.ipynb Cell 1\u001b[0m in \u001b[0;36m3\n\u001b[1;32m     <a href='vscode-notebook-cell:/Users/ericwang/Documents/spring2023/COMP%20141%20Language/project/language/parser.ipynb#W0sZmlsZQ%3D%3D?line=27'>28</a>\u001b[0m     \u001b[39mreturn\u001b[39;00m \u001b[39mself\u001b[39m\u001b[39m.\u001b[39mapplyGrammar(start \u001b[39m+\u001b[39m \u001b[39m1\u001b[39m, end \u001b[39m-\u001b[39m \u001b[39m1\u001b[39m, \u001b[39m0\u001b[39m)\n\u001b[1;32m     <a href='vscode-notebook-cell:/Users/ericwang/Documents/spring2023/COMP%20141%20Language/project/language/parser.ipynb#W0sZmlsZQ%3D%3D?line=28'>29</a>\u001b[0m \u001b[39melse\u001b[39;00m:\n\u001b[0;32m---> <a href='vscode-notebook-cell:/Users/ericwang/Documents/spring2023/COMP%20141%20Language/project/language/parser.ipynb#W0sZmlsZQ%3D%3D?line=29'>30</a>\u001b[0m     \u001b[39mreturn\u001b[39;00m \u001b[39mself\u001b[39;49m\u001b[39m.\u001b[39;49mapplyGrammar(start, end, grammarIndex \u001b[39m+\u001b[39;49m \u001b[39m1\u001b[39;49m)\n",
      "\u001b[1;32m/Users/ericwang/Documents/spring2023/COMP 141 Language/project/language/parser.ipynb Cell 1\u001b[0m in \u001b[0;36m5\n\u001b[1;32m     <a href='vscode-notebook-cell:/Users/ericwang/Documents/spring2023/COMP%20141%20Language/project/language/parser.ipynb#W0sZmlsZQ%3D%3D?line=53'>54</a>\u001b[0m grammar \u001b[39m=\u001b[39m \u001b[39mgetattr\u001b[39m(\u001b[39mself\u001b[39m, \u001b[39mself\u001b[39m\u001b[39m.\u001b[39mgrammars[grammarIndex] \u001b[39m+\u001b[39m \u001b[39m'\u001b[39m\u001b[39mGrammar\u001b[39m\u001b[39m'\u001b[39m, \u001b[39mNone\u001b[39;00m)\n\u001b[1;32m     <a href='vscode-notebook-cell:/Users/ericwang/Documents/spring2023/COMP%20141%20Language/project/language/parser.ipynb#W0sZmlsZQ%3D%3D?line=54'>55</a>\u001b[0m \u001b[39mif\u001b[39;00m grammar:\n\u001b[0;32m---> <a href='vscode-notebook-cell:/Users/ericwang/Documents/spring2023/COMP%20141%20Language/project/language/parser.ipynb#W0sZmlsZQ%3D%3D?line=55'>56</a>\u001b[0m     \u001b[39mreturn\u001b[39;00m grammar(start, end, grammarIndex)\n\u001b[1;32m     <a href='vscode-notebook-cell:/Users/ericwang/Documents/spring2023/COMP%20141%20Language/project/language/parser.ipynb#W0sZmlsZQ%3D%3D?line=56'>57</a>\u001b[0m \u001b[39mreturn\u001b[39;00m \u001b[39mself\u001b[39m\u001b[39m.\u001b[39mbinaryGrammar(start, end, grammarIndex)\n",
      "\u001b[1;32m/Users/ericwang/Documents/spring2023/COMP 141 Language/project/language/parser.ipynb Cell 1\u001b[0m in \u001b[0;36m3\n\u001b[1;32m     <a href='vscode-notebook-cell:/Users/ericwang/Documents/spring2023/COMP%20141%20Language/project/language/parser.ipynb#W0sZmlsZQ%3D%3D?line=33'>34</a>\u001b[0m     \u001b[39mreturn\u001b[39;00m Node(\u001b[39m*\u001b[39m\u001b[39mself\u001b[39m\u001b[39m.\u001b[39mtokens[start])\n\u001b[1;32m     <a href='vscode-notebook-cell:/Users/ericwang/Documents/spring2023/COMP%20141%20Language/project/language/parser.ipynb#W0sZmlsZQ%3D%3D?line=34'>35</a>\u001b[0m \u001b[39melse\u001b[39;00m:\n\u001b[0;32m---> <a href='vscode-notebook-cell:/Users/ericwang/Documents/spring2023/COMP%20141%20Language/project/language/parser.ipynb#W0sZmlsZQ%3D%3D?line=35'>36</a>\u001b[0m     \u001b[39mraise\u001b[39;00m \u001b[39mException\u001b[39;00m(\u001b[39m\"\u001b[39m\u001b[39mnumber grammar can\u001b[39m\u001b[39m'\u001b[39m\u001b[39mt be matched.\u001b[39m\u001b[39m\"\u001b[39m)\n",
      "\u001b[0;31mException\u001b[0m: number grammar can't be matched."
     ]
    }
   ],
   "source": [
    "from asTree import Node\n",
    "\n",
    "tokens = [('(', 'SYMBOL'),('324', 'NUMBER'),('-', 'SYMBOL'),('324', 'NUMBER'),(')', 'SYMBOL'), ('*', 'SYMBOL'), ('34', 'NUMBER'), ('/', 'SYMBOL'), ('34', 'NUMBER'),('-', 'SYMBOL'), ('56', 'NUMBER'),('+', 'SYMBOL'),('432', 'NUMBER')]\n",
    "tokens1 = [('324', 'NUMBER'),('324', 'NUMBER'),('-', 'SYMBOL'), ('34', 'NUMBER'),('+', 'SYMBOL'),('432', 'NUMBER'),('+', 'SYMBOL')]\n",
    "\n",
    "class Parser:\n",
    "    def __init__(self, tokens):\n",
    "        self.SIGNS = {\n",
    "            'expression': '+',\n",
    "            'term': '-',\n",
    "            'factor': '/',\n",
    "            'piece': '*'\n",
    "        }\n",
    "        self.SYMBOL = 'SYMBOL'\n",
    "        tokens.reverse()\n",
    "        self.tokens = tokens\n",
    "        self.grammars = ('expression','term', 'factor', 'piece', 'element', 'number')\n",
    "        self.grammarLength = len(self.grammars)\n",
    "\n",
    "    def parse(self,start, end):\n",
    "        node = self.applyGrammar(start, end, 0)\n",
    "        node.preorder()\n",
    "\n",
    "    def elementGrammar(self, start, end, grammarIndex):\n",
    "        # (), {},\n",
    "        print('element', self.tokens[start:end])\n",
    "        if self.tokens[start][0] == ')' and self.tokens[end][0] == '(':\n",
    "            return self.applyGrammar(start + 1, end - 1, 0)\n",
    "        else:\n",
    "            return self.applyGrammar(start, end, grammarIndex + 1)\n",
    "    \n",
    "    def numberGrammar(self, start, end, grammarIndex): # number and identifier\n",
    "        if start == end - 1:  \n",
    "            return Node(*self.tokens[start])\n",
    "        else:\n",
    "            raise Exception(\"number/identifier grammar can't be matched.\")\n",
    "\n",
    "    def binaryGrammar(self, start, end, grammarIndex):\n",
    "        if grammarIndex >= self.grammarLength:\n",
    "            raise Exception(\"No grammar rule can be matched\")\n",
    "        if start >= end: return # when do we get to this point?\n",
    "        sign = self.SIGNS[self.grammars[grammarIndex]]\n",
    "        i = start\n",
    "        while i < end and self.tokens[i][0] != sign: # what if token is not a symbol do we need to check this?\n",
    "            i += 1\n",
    "        right = self.applyGrammar(start, i, grammarIndex + 1)\n",
    "        if i < end:\n",
    "            left = self.applyGrammar(i + 1, end, grammarIndex)\n",
    "            return Node(sign, self.tokens[i][1], left, right)\n",
    "        else:\n",
    "            return right\n",
    "        \n",
    "    def applyGrammar(self, start, end, grammarIndex):\n",
    "        # WE HAVE TO DO PARENTHESIS GRAMMAR FIRST. GRAMMAR RULE DOESN'T WORK.\n",
    "        # before we apply a grammar rule, we should iterate on tokens and decide if we want to do parenthis or binary grammar\n",
    "        # when we encounter a symbol, only parse the left side, don't parse the right side. No need to reverse the tokens. left association.\n",
    "        grammar = getattr(self, self.grammars[grammarIndex] + 'Grammar', None)\n",
    "        if grammar:\n",
    "            return grammar(start, end, grammarIndex)\n",
    "        return self.binaryGrammar(start, end, grammarIndex)\n",
    "\n",
    "# while i < end and self.tokens[i][0] != sign: # if we encounter ( or ), we need to do it differently\n",
    "#             i += 1\n",
    "    \n",
    "Parser(tokens).parse(0, len(tokens))\n"
   ]
  },
  {
   "cell_type": "code",
   "execution_count": 20,
   "metadata": {},
   "outputs": [
    {
     "name": "stdout",
     "output_type": "stream",
     "text": [
      "hello\n"
     ]
    }
   ],
   "source": [
    "True and print('hello')"
   ]
  },
  {
   "cell_type": "code",
   "execution_count": null,
   "metadata": {},
   "outputs": [],
   "source": [
    "def expression(self, start, end): # end exclusive\n",
    "        print('expression start, end', start, end)\n",
    "        if start >= end: return\n",
    "        symbol = self.SYMBOLS['expression']\n",
    "        print('parsing expression')\n",
    "        i = start\n",
    "        while i < end and self.tokens[i][0] != symbol:\n",
    "            i += 1\n",
    "        \n",
    "        # left = self.term(start, i)\n",
    "        left = getattr(self,'term')(start, i)\n",
    "        if i < end:\n",
    "            right = self.expression(i + 1, end)\n",
    "            return Node(symbol, self.SYMBOL, left, right)\n",
    "        else:\n",
    "            return left\n",
    "\n",
    "def term(self, start, end):\n",
    "    print('term s,e', start, end)\n",
    "    if start == end: return\n",
    "    return Node('term')\n"
   ]
  },
  {
   "cell_type": "code",
   "execution_count": 25,
   "metadata": {},
   "outputs": [
    {
     "name": "stdout",
     "output_type": "stream",
     "text": [
      "\t asfs\n"
     ]
    }
   ],
   "source": [
    "print('\\t','asfs')"
   ]
  },
  {
   "cell_type": "code",
   "execution_count": 7,
   "metadata": {},
   "outputs": [
    {
     "data": {
      "text/plain": [
       "'/'"
      ]
     },
     "execution_count": 7,
     "metadata": {},
     "output_type": "execute_result"
    }
   ],
   "source": [
    "'/'"
   ]
  },
  {
   "cell_type": "code",
   "execution_count": null,
   "metadata": {},
   "outputs": [],
   "source": []
  }
 ],
 "metadata": {
  "kernelspec": {
   "display_name": "Python 3",
   "language": "python",
   "name": "python3"
  },
  "language_info": {
   "codemirror_mode": {
    "name": "ipython",
    "version": 3
   },
   "file_extension": ".py",
   "mimetype": "text/x-python",
   "name": "python",
   "nbconvert_exporter": "python",
   "pygments_lexer": "ipython3",
   "version": "3.11.0"
  },
  "orig_nbformat": 4
 },
 "nbformat": 4,
 "nbformat_minor": 2
}
