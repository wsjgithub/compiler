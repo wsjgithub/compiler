{
 "cells": [
  {
   "cell_type": "code",
   "execution_count": null,
   "metadata": {},
   "outputs": [],
   "source": [
    "class Evaluator:\n",
    "    def __init__(self, ast):\n",
    "        self.root = ast"
   ]
  },
  {
   "attachments": {},
   "cell_type": "markdown",
   "metadata": {},
   "source": [
    "test cases:\n",
    "- large - small\n",
    "- divide by zero"
   ]
  },
  {
   "cell_type": "code",
   "execution_count": 1,
   "metadata": {},
   "outputs": [
    {
     "ename": "ImportError",
     "evalue": "attempted relative import with no known parent package",
     "output_type": "error",
     "traceback": [
      "\u001b[0;31m---------------------------------------------------------------------------\u001b[0m",
      "\u001b[0;31mImportError\u001b[0m                               Traceback (most recent call last)",
      "\u001b[1;32m/Users/ericwang/Documents/spring2023/COMP 141 Language/project/language/evaluator.ipynb Cell 3\u001b[0m in \u001b[0;36m1\n\u001b[0;32m----> <a href='vscode-notebook-cell:/Users/ericwang/Documents/spring2023/COMP%20141%20Language/project/language/evaluator.ipynb#W2sZmlsZQ%3D%3D?line=0'>1</a>\u001b[0m \u001b[39mfrom\u001b[39;00m \u001b[39mscanner\u001b[39;00m \u001b[39mimport\u001b[39;00m Scanner\n\u001b[1;32m      <a href='vscode-notebook-cell:/Users/ericwang/Documents/spring2023/COMP%20141%20Language/project/language/evaluator.ipynb#W2sZmlsZQ%3D%3D?line=1'>2</a>\u001b[0m \u001b[39mfrom\u001b[39;00m \u001b[39masTree\u001b[39;00m \u001b[39mimport\u001b[39;00m Node\n\u001b[1;32m      <a href='vscode-notebook-cell:/Users/ericwang/Documents/spring2023/COMP%20141%20Language/project/language/evaluator.ipynb#W2sZmlsZQ%3D%3D?line=2'>3</a>\u001b[0m \u001b[39mfrom\u001b[39;00m \u001b[39mutils\u001b[39;00m \u001b[39mimport\u001b[39;00m raiseException\n",
      "File \u001b[0;32m~/Documents/spring2023/COMP 141 Language/project/language/scanner.py:5\u001b[0m\n\u001b[1;32m      1\u001b[0m \u001b[39m# Shengjiao Wang, Raymond Lee\u001b[39;00m\n\u001b[1;32m      2\u001b[0m \u001b[39m# 1.2\u001b[39;00m\n\u001b[1;32m      4\u001b[0m \u001b[39mimport\u001b[39;00m \u001b[39mre\u001b[39;00m\n\u001b[0;32m----> 5\u001b[0m \u001b[39mfrom\u001b[39;00m \u001b[39m.\u001b[39;00m\u001b[39mconstants\u001b[39;00m \u001b[39mimport\u001b[39;00m MARKS, SYMBOLS, KEYWORDS\n\u001b[1;32m      7\u001b[0m \u001b[39mclass\u001b[39;00m \u001b[39mScanner\u001b[39;00m:\n\u001b[1;32m      8\u001b[0m     \u001b[39mdef\u001b[39;00m \u001b[39m__init__\u001b[39m(\u001b[39mself\u001b[39m):\n",
      "\u001b[0;31mImportError\u001b[0m: attempted relative import with no known parent package"
     ]
    }
   ],
   "source": [
    "from scanner import Scanner\n",
    "\n",
    "def test(line):\n",
    "    #tokens = Scanner().scan(line)\n",
    "    #print(tokens)\n",
    "    pass\n",
    "\n",
    "input = '3 * (5 + 10 / 3 - 1)'\n",
    "test(input)"
   ]
  },
  {
   "cell_type": "code",
   "execution_count": 2,
   "metadata": {},
   "outputs": [
    {
     "ename": "ImportError",
     "evalue": "attempted relative import with no known parent package",
     "output_type": "error",
     "traceback": [
      "\u001b[0;31m---------------------------------------------------------------------------\u001b[0m",
      "\u001b[0;31mImportError\u001b[0m                               Traceback (most recent call last)",
      "\u001b[1;32m/Users/ericwang/Documents/spring2023/COMP 141 Language/project/language/evaluator.ipynb Cell 4\u001b[0m in \u001b[0;36m1\n\u001b[0;32m----> <a href='vscode-notebook-cell:/Users/ericwang/Documents/spring2023/COMP%20141%20Language/project/language/evaluator.ipynb#W3sZmlsZQ%3D%3D?line=0'>1</a>\u001b[0m \u001b[39mfrom\u001b[39;00m \u001b[39mscanner\u001b[39;00m \u001b[39mimport\u001b[39;00m Scanner\n\u001b[1;32m      <a href='vscode-notebook-cell:/Users/ericwang/Documents/spring2023/COMP%20141%20Language/project/language/evaluator.ipynb#W3sZmlsZQ%3D%3D?line=1'>2</a>\u001b[0m \u001b[39mfrom\u001b[39;00m \u001b[39masTree\u001b[39;00m \u001b[39mimport\u001b[39;00m Node\n\u001b[1;32m      <a href='vscode-notebook-cell:/Users/ericwang/Documents/spring2023/COMP%20141%20Language/project/language/evaluator.ipynb#W3sZmlsZQ%3D%3D?line=2'>3</a>\u001b[0m \u001b[39mfrom\u001b[39;00m \u001b[39mutils\u001b[39;00m \u001b[39mimport\u001b[39;00m raiseException\n",
      "File \u001b[0;32m~/Documents/spring2023/COMP 141 Language/project/language/scanner.py:5\u001b[0m\n\u001b[1;32m      1\u001b[0m \u001b[39m# Shengjiao Wang, Raymond Lee\u001b[39;00m\n\u001b[1;32m      2\u001b[0m \u001b[39m# 1.2\u001b[39;00m\n\u001b[1;32m      4\u001b[0m \u001b[39mimport\u001b[39;00m \u001b[39mre\u001b[39;00m\n\u001b[0;32m----> 5\u001b[0m \u001b[39mfrom\u001b[39;00m \u001b[39m.\u001b[39;00m\u001b[39mconstants\u001b[39;00m \u001b[39mimport\u001b[39;00m MARKS, SYMBOLS, KEYWORDS\n\u001b[1;32m      7\u001b[0m \u001b[39mclass\u001b[39;00m \u001b[39mScanner\u001b[39;00m:\n\u001b[1;32m      8\u001b[0m     \u001b[39mdef\u001b[39;00m \u001b[39m__init__\u001b[39m(\u001b[39mself\u001b[39m):\n",
      "\u001b[0;31mImportError\u001b[0m: attempted relative import with no known parent package"
     ]
    }
   ],
   "source": [
    "from scanner import Scanner\n",
    "from asTree import Node\n",
    "from utils import raiseException"
   ]
  },
  {
   "cell_type": "code",
   "execution_count": 7,
   "metadata": {},
   "outputs": [
    {
     "data": {
      "text/plain": [
       "[1, 2]"
      ]
     },
     "execution_count": 7,
     "metadata": {},
     "output_type": "execute_result"
    }
   ],
   "source": [
    "s = [1,2,3,4,5]\n",
    "del s[-3:]\n",
    "s"
   ]
  },
  {
   "cell_type": "code",
   "execution_count": 8,
   "metadata": {},
   "outputs": [
    {
     "name": "stdout",
     "output_type": "stream",
     "text": [
      "hello\n"
     ]
    }
   ],
   "source": [
    "a = Exception('hello')\n",
    "print(str(a))"
   ]
  },
  {
   "cell_type": "code",
   "execution_count": 7,
   "metadata": {},
   "outputs": [
    {
     "name": "stdout",
     "output_type": "stream",
     "text": [
      "hh\n"
     ]
    }
   ],
   "source": [
    "class Test:\n",
    "    def __init__(self):\n",
    "        self.a = 'hello'\n",
    "        self.b = None\n",
    "\n",
    "t = Test()\n",
    "hasattr(t, 'a') and print('hh')\n",
    "t.b and print('none')"
   ]
  },
  {
   "cell_type": "code",
   "execution_count": null,
   "metadata": {},
   "outputs": [],
   "source": []
  }
 ],
 "metadata": {
  "kernelspec": {
   "display_name": "Python 3",
   "language": "python",
   "name": "python3"
  },
  "language_info": {
   "codemirror_mode": {
    "name": "ipython",
    "version": 3
   },
   "file_extension": ".py",
   "mimetype": "text/x-python",
   "name": "python",
   "nbconvert_exporter": "python",
   "pygments_lexer": "ipython3",
   "version": "3.11.0"
  },
  "orig_nbformat": 4
 },
 "nbformat": 4,
 "nbformat_minor": 2
}
