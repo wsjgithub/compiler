{
 "cells": [
  {
   "cell_type": "code",
   "execution_count": 90,
   "metadata": {},
   "outputs": [
    {
     "name": "stdout",
     "output_type": "stream",
     "text": [
      "type identifier\n",
      "type number\n",
      "234\n",
      "longest 234\n",
      "type identifier\n",
      "avd\n",
      "type number\n",
      "longest avd\n",
      "type identifier\n",
      "s1233asd23\n",
      "type number\n",
      "longest s1233asd23\n",
      "type identifier\n",
      "sfd22\n",
      "type number\n",
      "longest sfd22\n",
      "type identifier\n",
      "type number\n",
      "3\n",
      "longest 3\n",
      "[('234', 'NUMBER'), ('avd', 'IDENTIFIER'), ('s1233asd23', 'IDENTIFIER'), ('sfd22', 'IDENTIFIER'), ('*', 'SYMBOL'), ('3', 'NUMBER')]\n"
     ]
    }
   ],
   "source": [
    "import re\n",
    "\n",
    "patterns = {\n",
    "    \"identifier\":\"([a-z] | [A-Z])([a-z] | [A-Z] | [0-9])*\",\n",
    "    \"number\": '[0-9]+',\n",
    "    \"symbol\": '\\+ | \\- | \\* | / | \\( | \\)',\n",
    "\n",
    "}\n",
    "whitespace = '\\s'\n",
    "\n",
    "class Scanner:\n",
    "    def __init__(self):\n",
    "        self.MARKS = {\n",
    "            'identifier': 'IDENTIFIER',\n",
    "            'number': 'NUMBER',\n",
    "            'symbol':'SYMBOL'\n",
    "        }\n",
    "        self.symbols = (\"+\", \"-\", \"*\", \"/\", \"(\", \")\")\n",
    "        self.tokenTypes = ['identifier', 'number'] # exclude symbol\n",
    "        self.patterns = {\n",
    "            \"identifier\":\"([a-z]|[A-Z])([a-z]|[A-Z]|[0-9])*\",\n",
    "            \"number\": '[0-9]+',\n",
    "            \"symbol\": self._generateSymbolsPattern(self.symbols),\n",
    "            \"validChar\": '[a-z]|[A-Z]|[0-9]|' + self._generateSymbolsPattern(self.symbols)\n",
    "        }\n",
    "        self.validCharPattern = '[a-z]|[A-Z]|[0-9]|\\+|\\-|\\*|\\/|\\(|\\)'\n",
    "        self.whitespace = '\\s'\n",
    "        self.tokens = []\n",
    "        self.currentToken = ''\n",
    "\n",
    "    def scan(self, input):\n",
    "        for ch in input:\n",
    "            if self._isWhitespace(ch):\n",
    "                self._parseToken()\n",
    "\n",
    "            elif self._isSymbol(ch):\n",
    "                self._parseToken()\n",
    "                self.currentToken = ch\n",
    "                self._parseSymbol()\n",
    "\n",
    "            elif self._isValidChar(ch):\n",
    "                self.currentToken += ch\n",
    "\n",
    "            else:\n",
    "                print('invalid char')\n",
    "                ## @@@@@@ throw an exception\n",
    "                break\n",
    "        self._parseToken()\n",
    "        return self.tokens\n",
    "    def _parseSymbol(self):\n",
    "        # short cut for parsing symbol\n",
    "        self.tokens.append((self.currentToken, self.MARKS['symbol']))\n",
    "        self.currentToken = ''\n",
    "        \n",
    "\n",
    "    def _parseToken(self):\n",
    "        if not self.currentToken: return \n",
    "        longestMatchedToken = ''\n",
    "        longestMatchedTokenType = ''\n",
    "        for type in self.tokenTypes:\n",
    "            matched = re.match(self.patterns[type], self.currentToken)\n",
    "            if matched:\n",
    "                longestMatchedToken = matched.group() if len(longestMatchedToken) < len(matched.group()) else longestMatchedToken\n",
    "                longestMatchedTokenType = self.MARKS[type]\n",
    "        print('longest', longestMatchedToken)\n",
    "        if longestMatchedToken and longestMatchedTokenType:\n",
    "            self.tokens.append((longestMatchedToken, longestMatchedTokenType))\n",
    "            self.currentToken = self.currentToken[len(longestMatchedToken):]\n",
    "            self._parseToken()\n",
    "        else:\n",
    "            # no token can be matched\n",
    "            print('error')\n",
    "                \n",
    "        # @@@@@@ throw an error here. \n",
    "        # the token doesn't match any existing pattern, but it doesn't contain any illegal character, it needs to be reprocessed. \n",
    "        self.currentToken = ''\n",
    "\n",
    "    def _isWhitespace(self, char):\n",
    "        return re.fullmatch(self.whitespace, char)\n",
    "    \n",
    "    def _isSymbol(self, char):\n",
    "        return re.fullmatch(self.patterns['symbol'], char)\n",
    "\n",
    "    def _isValidChar(self, char):\n",
    "        return re.fullmatch(self.validCharPattern,char)\n",
    "\n",
    "    def _generateSymbolsPattern(self, symbols):\n",
    "        return ''.join([\"\\\\\"+s+'|' for s in symbols])[:-1]\n",
    "\n",
    "\n",
    "s = Scanner()\n",
    "tests = ['234avd s1233asd23 sfd22*3 ']\n",
    "for t in tests:\n",
    "    print(s.scan(t))\n"
   ]
  },
  {
   "cell_type": "code",
   "execution_count": 86,
   "metadata": {},
   "outputs": [
    {
     "name": "stdout",
     "output_type": "stream",
     "text": [
      "([a-z]|[A-Z])([a-z]|[A-Z]|[0-9])*\n"
     ]
    },
    {
     "data": {
      "text/plain": [
       "'234'"
      ]
     },
     "execution_count": 86,
     "metadata": {},
     "output_type": "execute_result"
    }
   ],
   "source": [
    "import re\n",
    "symbols = (\"+\", \"-\", \"*\", \"/\", \"(\", \")\")\n",
    "def _generateSymbolsPattern(symbols):\n",
    "    return ''.join([\"\\\\\"+s+'|' for s in symbols])[:-1]\n",
    "pattern = \"([a-z]|[A-Z])([a-z]|[A-Z]|[0-9])*\"\n",
    "numberP = '[0-9]+'\n",
    "print(pattern)\n",
    "re.match(numberP,'234avds1233asd23').group()\n"
   ]
  },
  {
   "cell_type": "code",
   "execution_count": 71,
   "metadata": {},
   "outputs": [
    {
     "name": "stdout",
     "output_type": "stream",
     "text": [
      "1\n"
     ]
    }
   ],
   "source": [
    "c = {\"a\":1}\n",
    "b = \"a\"\n",
    "print(c[b])"
   ]
  },
  {
   "cell_type": "code",
   "execution_count": 50,
   "metadata": {},
   "outputs": [
    {
     "data": {
      "text/plain": [
       "'bc'"
      ]
     },
     "execution_count": 50,
     "metadata": {},
     "output_type": "execute_result"
    }
   ],
   "source": [
    "max('abc','bc')"
   ]
  },
  {
   "cell_type": "code",
   "execution_count": 92,
   "metadata": {},
   "outputs": [
    {
     "name": "stdout",
     "output_type": "stream",
     "text": [
      "hello:world\n"
     ]
    }
   ],
   "source": [
    "import re\n",
    "\n",
    "class Scanner:\n",
    "    def __init__(self):\n",
    "        self.MARKS = {\n",
    "            'identifier': 'IDENTIFIER',\n",
    "            'number': 'NUMBER',\n",
    "            'symbol':'SYMBOL'\n",
    "        }\n",
    "        self.symbols = (\"+\", \"-\", \"*\", \"/\", \"(\", \")\")\n",
    "        self.tokenTypes = ['identifier', 'number'] # exclude symbol\n",
    "        self.patterns = {\n",
    "            \"identifier\":\"([a-z]|[A-Z])([a-z]|[A-Z]|[0-9])*\",\n",
    "            \"number\": '[0-9]+',\n",
    "            \"symbol\": self._generateSymbolsPattern(self.symbols),\n",
    "            \"validChar\": '[a-z]|[A-Z]|[0-9]|' + self._generateSymbolsPattern(self.symbols)\n",
    "        }\n",
    "        self.validCharPattern = '[a-z]|[A-Z]|[0-9]|\\+|\\-|\\*|\\/|\\(|\\)'\n",
    "        self.whitespace = '\\s'\n",
    "        self.tokens = []\n",
    "        self.currentToken = ''\n",
    "\n",
    "    def scan(self, input):\n",
    "        for ch in input:\n",
    "            if self._isWhitespace(ch):\n",
    "                self._parseToken()\n",
    "\n",
    "            elif self._isSymbol(ch):\n",
    "                self._parseToken()\n",
    "                self.currentToken = ch\n",
    "                self._parseSymbol()\n",
    "\n",
    "            elif self._isValidChar(ch):\n",
    "                self.currentToken += ch\n",
    "\n",
    "            else:\n",
    "                print('invalid char')\n",
    "                ## @@@@@@ throw an exception\n",
    "                break\n",
    "        self._parseToken()\n",
    "        return self.tokens\n",
    "    def _parseSymbol(self):\n",
    "        # short cut for parsing symbol\n",
    "        self.tokens.append((self.currentToken, self.MARKS['symbol']))\n",
    "        self.currentToken = ''\n",
    "        \n",
    "\n",
    "    def _parseToken(self):\n",
    "        if not self.currentToken: return \n",
    "        longestMatchedToken = ''\n",
    "        longestMatchedTokenType = ''\n",
    "        for type in self.tokenTypes:\n",
    "            matched = re.match(self.patterns[type], self.currentToken)\n",
    "            if matched:\n",
    "                longestMatchedToken = matched.group() if len(longestMatchedToken) < len(matched.group()) else longestMatchedToken\n",
    "                longestMatchedTokenType = self.MARKS[type]\n",
    "        if longestMatchedToken and longestMatchedTokenType:\n",
    "            self.tokens.append((longestMatchedToken, longestMatchedTokenType))\n",
    "            self.currentToken = self.currentToken[len(longestMatchedToken):]\n",
    "            self._parseToken()\n",
    "        else:\n",
    "            # no token can be matched\n",
    "            print('error')\n",
    "                \n",
    "        # @@@@@@ throw an error here. \n",
    "        # the token doesn't match any existing pattern, but it doesn't contain any illegal character, it needs to be reprocessed. \n",
    "        self.currentToken = ''\n",
    "\n",
    "    def _isWhitespace(self, char):\n",
    "        return re.fullmatch(self.whitespace, char)\n",
    "    \n",
    "    def _isSymbol(self, char):\n",
    "        return re.fullmatch(self.patterns['symbol'], char)\n",
    "\n",
    "    def _isValidChar(self, char):\n",
    "        return re.fullmatch(self.validCharPattern,char)\n",
    "\n",
    "    def _generateSymbolsPattern(self, symbols):\n",
    "        return ''.join([\"\\\\\"+s+'|' for s in symbols])[:-1]\n",
    "\n",
    "def serializeToken(token):\n",
    "    if not token: return ''\n",
    "    return ':'.join(token)\n",
    "\n",
    "\n",
    "print(serializeToken(('hello',\"world\")))\n",
    "\n",
    "\n",
    "\n"
   ]
  },
  {
   "cell_type": "code",
   "execution_count": null,
   "metadata": {},
   "outputs": [],
   "source": []
  }
 ],
 "metadata": {
  "kernelspec": {
   "display_name": "Python 3",
   "language": "python",
   "name": "python3"
  },
  "language_info": {
   "codemirror_mode": {
    "name": "ipython",
    "version": 3
   },
   "file_extension": ".py",
   "mimetype": "text/x-python",
   "name": "python",
   "nbconvert_exporter": "python",
   "pygments_lexer": "ipython3",
   "version": "3.11.0"
  },
  "orig_nbformat": 4,
  "vscode": {
   "interpreter": {
    "hash": "aee8b7b246df8f9039afb4144a1f6fd8d2ca17a180786b69acc140d282b71a49"
   }
  }
 },
 "nbformat": 4,
 "nbformat_minor": 2
}
